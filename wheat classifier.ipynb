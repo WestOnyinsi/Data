#This notebook is meant to create a classifier for classifying wheat seeds into three classes (i.e., species): Kama, Rosa and Canadian encoded as 1, 2, and 3, respectively

# Import the libraries for loading the data, for splitting the data into train and test
# sets and for creating a KNN classifier.                                                   [3 Marks]
import pandas as pd
from sklearn.model_selection import train_test_split
from sklearn.neighbors import KNeighborsRegressor
# Download the wheat_seeds.csv dataset from Blackboard and save it in the same folder as this notebook.
# load the dataset into this notebook. [1 Mark]
wheat=pd.read_csv('wheat_seeds.csv', header=None)
# Give the columns the headings: Area, Perimenter, Compactness, KernelLength,
# KernelWidth, Assymetry, GrooveLength, Species
# Then display the first five rows of the dataset                                    [2 Marks]
wheat.columns=["Area",'Perimenter','Compactness','KernelLength','KernelWidth','Assymetry','GrooveLength','Species']
wheat.head()
# Print out the dimensions of the dataset (number of rows and columns) [1 Mark]
wheat.shape
# Prepare X and y, where X is the input feature matrix and y is the target vector. [1 Mark]
X=wheat.drop("Species", axis=1)
X=X.values
y=wheat["Species"]
y=y.values
# Split the dataset into a training and a test set. Use random_state=0. [1 Mark]
X_train,X_test,y_train,y_test=train_test_split(X,y,test_size=0.2,random_state=0)
# Train a k nearest neighbors classifier with 6 neighbors. [2 Marks]
knn_model=KNeighborsClassifier(n_neighbors=6)
knn_model.fit(X_train,y_train)
# Evaluate the model on the training data and on the test data and print out the results. [2 Marks]
from sklearn.metrics import mean_squared_error
from math import sqrt
train_preds=knn_model.predict(X_train)
mse=mean_squared_error(y_train,train_preds)
rmse=sqrt(mse)
print("Error rate on training data :",rmse)

test_preds=knn_model.predict(X_test)
mse=mean_squared_error(y_test,test_preds)
rmse=sqrt(mse)
print("Error rate on testing data :",rmse)