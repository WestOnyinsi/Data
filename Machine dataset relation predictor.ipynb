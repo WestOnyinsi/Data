{
 "cells": [
  {
   "cell_type": "code",
   "execution_count": null,
   "id": "a65acf9b",
   "metadata": {},
   "outputs": [],
   "source": [
    "import pandas as pd\n",
    "machine=pd.read_csv('machine.csv')"
   ]
  },
  {
   "cell_type": "code",
   "execution_count": null,
   "id": "9bb13521",
   "metadata": {},
   "outputs": [],
   "source": [
    "machine.describe()"
   ]
  },
  {
   "cell_type": "code",
   "execution_count": null,
   "id": "09377540",
   "metadata": {},
   "outputs": [],
   "source": [
    "machine.columns=[\"Vendor Name\",'Model Name','MYCT','MMIN','MMAX','CACH'\n",
    "                ,'CHMIN','CHMAX','PRP','ERP']"
   ]
  },
  {
   "cell_type": "code",
   "execution_count": null,
   "id": "220a8f74",
   "metadata": {},
   "outputs": [],
   "source": [
    "machine.drop(columns=['Vendor Name','Model Name','ERP'])"
   ]
  },
  {
   "cell_type": "code",
   "execution_count": null,
   "id": "19a560f4",
   "metadata": {},
   "outputs": [],
   "source": [
    "from sklearn.model_selection import train_test_split\n",
    "X=machine[feature_list]\n",
    "Y=machine.ERP\n",
    "X_train,X_test,y_train,y_test=train_test_split(X,Y,test_size=0.2, \n",
    "                                     random_state=12345)"
   ]
  },
  {
   "cell_type": "code",
   "execution_count": null,
   "id": "c75d83d7",
   "metadata": {},
   "outputs": [],
   "source": [
    "print(X_train,X_test,y_train,y_test)"
   ]
  },
  {
   "cell_type": "code",
   "execution_count": null,
   "id": "f81cca91",
   "metadata": {},
   "outputs": [],
   "source": [
    "from sklearn.model_selection import GridSearchCV\n",
    "parameters={\"n_neighbors\":range(1,50)}\n",
    "gridsearch=GridSearchCV(KNeighborsRegressor(),parameters)\n",
    "gridsearch.fit(X_train,y_train)"
   ]
  },
  {
   "cell_type": "code",
   "execution_count": null,
   "id": "270ea6d1",
   "metadata": {},
   "outputs": [],
   "source": [
    "gridsearch.best_params_"
   ]
  },
  {
   "cell_type": "code",
   "execution_count": null,
   "id": "de62ff4d",
   "metadata": {},
   "outputs": [],
   "source": [
    "train_preds_grid=gridsearch.predict(X_train)\n",
    "train_mse=mean_squared_error(y_train,train_preds_grid)\n",
    "train_rmse=sqrt(train_mse)\n",
    "\n",
    "test_preds_grid=gridsearch.predict(X_test)\n",
    "test_mse=mean_squared_error(y_test,test_preds_grid)\n",
    "test_rmse=sqrt(test_mse)\n",
    "\n",
    "print(\"Train Error :\", train_rmse)\n",
    "print(\"Test error :\" ,test_rmse)\n"
   ]
  }
 ],
 "metadata": {
  "kernelspec": {
   "display_name": "Python 3 (ipykernel)",
   "language": "python",
   "name": "python3"
  },
  "language_info": {
   "codemirror_mode": {
    "name": "ipython",
    "version": 3
   },
   "file_extension": ".py",
   "mimetype": "text/x-python",
   "name": "python",
   "nbconvert_exporter": "python",
   "pygments_lexer": "ipython3",
   "version": "3.9.12"
  }
 },
 "nbformat": 4,
 "nbformat_minor": 5
}
